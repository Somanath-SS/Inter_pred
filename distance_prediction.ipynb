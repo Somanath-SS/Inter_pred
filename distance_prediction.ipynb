{
 "cells": [
  {
   "cell_type": "markdown",
   "metadata": {},
   "source": [
    "<h1 align=\"center\">Analisis of a PDB file</h1>"
   ]
  },
  {
   "cell_type": "code",
   "execution_count": 6,
   "metadata": {},
   "outputs": [
    {
     "ename": "FileNotFoundError",
     "evalue": "[Errno 2] No such file or directory: '7knt.pdb'",
     "output_type": "error",
     "traceback": [
      "\u001b[1;31m---------------------------------------------------------------------------\u001b[0m",
      "\u001b[1;31mFileNotFoundError\u001b[0m                         Traceback (most recent call last)",
      "Cell \u001b[1;32mIn[6], line 2\u001b[0m\n\u001b[0;32m      1\u001b[0m \u001b[38;5;28;01mimport\u001b[39;00m \u001b[38;5;21;01mpdbreader\u001b[39;00m\n\u001b[1;32m----> 2\u001b[0m pdb \u001b[38;5;241m=\u001b[39m \u001b[43mpdbreader\u001b[49m\u001b[38;5;241;43m.\u001b[39;49m\u001b[43mread_pdb\u001b[49m\u001b[43m(\u001b[49m\u001b[38;5;124;43mr\u001b[39;49m\u001b[38;5;124;43m\"\u001b[39;49m\u001b[38;5;124;43m7knt.pdb\u001b[39;49m\u001b[38;5;124;43m\"\u001b[39;49m\u001b[43m)\u001b[49m\n",
      "File \u001b[1;32mc:\\Users\\damia\\OneDrive\\Pulpit\\Inter_pred\\Inter_pred\\inenv\\Lib\\site-packages\\pdbreader\\parser.py:40\u001b[0m, in \u001b[0;36mread_pdb\u001b[1;34m(path)\u001b[0m\n\u001b[0;32m     39\u001b[0m \u001b[38;5;28;01mdef\u001b[39;00m \u001b[38;5;21mread_pdb\u001b[39m(path):\n\u001b[1;32m---> 40\u001b[0m     \u001b[38;5;28;01mwith\u001b[39;00m \u001b[38;5;28;43mopen\u001b[39;49m\u001b[43m(\u001b[49m\u001b[43mpath\u001b[49m\u001b[43m,\u001b[49m\u001b[43m \u001b[49m\u001b[38;5;124;43m'\u001b[39;49m\u001b[38;5;124;43mr\u001b[39;49m\u001b[38;5;124;43m'\u001b[39;49m\u001b[43m)\u001b[49m \u001b[38;5;28;01mas\u001b[39;00m f:\n\u001b[0;32m     41\u001b[0m         lines \u001b[38;5;241m=\u001b[39m f\u001b[38;5;241m.\u001b[39mreadlines()\n\u001b[0;32m     43\u001b[0m     records \u001b[38;5;241m=\u001b[39m defaultdict(\u001b[38;5;28mlist\u001b[39m)\n",
      "\u001b[1;31mFileNotFoundError\u001b[0m: [Errno 2] No such file or directory: '7knt.pdb'"
     ]
    }
   ],
   "source": [
    "import pdbreader\n",
    "pdb = pdbreader.read_pdb(r\"7knt.pdb\")"
   ]
  },
  {
   "cell_type": "code",
   "execution_count": null,
   "metadata": {},
   "outputs": [
    {
     "name": "stdout",
     "output_type": "stream",
     "text": [
      "      model_id    id name loc_indicator resname chain  resid res_icode  \\\n",
      "0            0     1    N          None     GLU     E     29      None   \n",
      "1            0     2   CA          None     GLU     E     29      None   \n",
      "2            0     3    C          None     GLU     E     29      None   \n",
      "3            0     4    O          None     GLU     E     29      None   \n",
      "4            0     5   CB          None     GLU     E     29      None   \n",
      "...        ...   ...  ...           ...     ...   ...    ...       ...   \n",
      "3711         0  3713  CD2          None     TYR     R    402      None   \n",
      "3712         0  3714  CE1          None     TYR     R    402      None   \n",
      "3713         0  3715  CE2          None     TYR     R    402      None   \n",
      "3714         0  3716   CZ          None     TYR     R    402      None   \n",
      "3715         0  3717   OH          None     TYR     R    402      None   \n",
      "\n",
      "            x        y        z  occupancy  b_factor segment element charge  \n",
      "0     115.869  148.782   74.070        1.0    183.42    None       N   None  \n",
      "1     115.481  149.533   72.882        1.0    183.42    None       C   None  \n",
      "2     116.018  148.861   71.619        1.0    183.42    None       C   None  \n",
      "3     116.974  148.087   71.677        1.0    183.42    None       O   None  \n",
      "4     115.981  150.975   72.974        1.0    183.42    None       C   None  \n",
      "...       ...      ...      ...        ...       ...     ...     ...    ...  \n",
      "3711  105.619   90.895  138.037        1.0    156.46    None       C   None  \n",
      "3712  106.881   90.143  140.372        1.0    156.46    None       C   None  \n",
      "3713  106.634   91.678  138.554        1.0    156.46    None       C   None  \n",
      "3714  107.261   91.297  139.722        1.0    156.46    None       C   None  \n",
      "3715  108.272   92.072  140.240        1.0    156.46    None       O   None  \n",
      "\n",
      "[3716 rows x 16 columns]\n"
     ]
    }
   ],
   "source": [
    "print(pdb['ATOM'])"
   ]
  },
  {
   "cell_type": "code",
   "execution_count": 31,
   "metadata": {},
   "outputs": [
    {
     "name": "stderr",
     "output_type": "stream",
     "text": [
      "[15:48:17] Molecule does not have explicit Hs. Consider calling AddHs()\n"
     ]
    },
    {
     "data": {
      "application/3dmoljs_load.v0": "<div id=\"3dmolviewer_1710254897638724\"  style=\"position: relative; width: 400px; height: 400px;\">\n        <p id=\"3dmolwarning_1710254897638724\" style=\"background-color:#ffcccc;color:black\">3Dmol.js failed to load for some reason.  Please check your browser console for error messages.<br></p>\n        </div>\n<script>\n\nvar loadScriptAsync = function(uri){\n  return new Promise((resolve, reject) => {\n    //this is to ignore the existence of requirejs amd\n    var savedexports, savedmodule;\n    if (typeof exports !== 'undefined') savedexports = exports;\n    else exports = {}\n    if (typeof module !== 'undefined') savedmodule = module;\n    else module = {}\n\n    var tag = document.createElement('script');\n    tag.src = uri;\n    tag.async = true;\n    tag.onload = () => {\n        exports = savedexports;\n        module = savedmodule;\n        resolve();\n    };\n  var firstScriptTag = document.getElementsByTagName('script')[0];\n  firstScriptTag.parentNode.insertBefore(tag, firstScriptTag);\n});\n};\n\nif(typeof $3Dmolpromise === 'undefined') {\n$3Dmolpromise = null;\n  $3Dmolpromise = loadScriptAsync('https://cdnjs.cloudflare.com/ajax/libs/3Dmol/2.1.0/3Dmol-min.js');\n}\n\nvar viewer_1710254897638724 = null;\nvar warn = document.getElementById(\"3dmolwarning_1710254897638724\");\nif(warn) {\n    warn.parentNode.removeChild(warn);\n}\n$3Dmolpromise.then(function() {\nviewer_1710254897638724 = $3Dmol.createViewer(document.getElementById(\"3dmolviewer_1710254897638724\"),{backgroundColor:\"white\"});\nviewer_1710254897638724.zoomTo();\n\tviewer_1710254897638724.addModel(\"HETATM    1  C2  UNK A 466      -1.372  -0.334  -1.213  1.00 20.00           C  \\nHETATM    2  N1  UNK A 466      -2.442   0.528  -0.758  1.00 20.00           N  \\nHETATM    3  C4  UNK A 466      -2.440   0.495   0.667  1.00 20.00           C  \\nHETATM    4  O2  UNK A 466      -3.639  -0.031   1.110  1.00 20.00           O  \\nHETATM    5  O1  UNK A 466      -1.353  -0.207   1.108  1.00 20.00           O  \\nHETATM    6  C3  UNK A 466      -0.541  -0.493   0.027  1.00 20.00           C  \\nHETATM    7  C5  UNK A 466       0.652   0.431  -0.023  1.00 20.00           C  \\nHETATM    8  C6  UNK A 466       1.534   0.347   1.158  1.00 20.00           C  \\nHETATM    9  C7  UNK A 466       2.742  -0.489   1.028  1.00 20.00           C  \\nHETATM   10  C8  UNK A 466       3.296  -0.613  -0.356  1.00 20.00           C  \\nHETATM   11  C9  UNK A 466       2.220  -0.800  -1.403  1.00 20.00           C  \\nHETATM   12  C10 UNK A 466       1.341   0.431  -1.346  1.00 20.00           C  \\nCONECT    1    2    6\\nCONECT    2    3\\nCONECT    3    4    5\\nCONECT    5    6\\nCONECT    6    7\\nCONECT    7    8   12\\nCONECT    8    9\\nCONECT    9   10\\nCONECT   10   11\\nCONECT   11   12\\nEND\\n\",\"pdb\");\n\tviewer_1710254897638724.setStyle({\"stick\": {\"colorscheme\": \"Jmol\", \"color\": \"residue\"}});\n\tviewer_1710254897638724.setBackgroundColor(\"black\");\n\tviewer_1710254897638724.zoomTo();\nviewer_1710254897638724.render();\n});\n</script>",
      "text/html": [
       "<div id=\"3dmolviewer_1710254897638724\"  style=\"position: relative; width: 400px; height: 400px;\">\n",
       "        <p id=\"3dmolwarning_1710254897638724\" style=\"background-color:#ffcccc;color:black\">3Dmol.js failed to load for some reason.  Please check your browser console for error messages.<br></p>\n",
       "        </div>\n",
       "<script>\n",
       "\n",
       "var loadScriptAsync = function(uri){\n",
       "  return new Promise((resolve, reject) => {\n",
       "    //this is to ignore the existence of requirejs amd\n",
       "    var savedexports, savedmodule;\n",
       "    if (typeof exports !== 'undefined') savedexports = exports;\n",
       "    else exports = {}\n",
       "    if (typeof module !== 'undefined') savedmodule = module;\n",
       "    else module = {}\n",
       "\n",
       "    var tag = document.createElement('script');\n",
       "    tag.src = uri;\n",
       "    tag.async = true;\n",
       "    tag.onload = () => {\n",
       "        exports = savedexports;\n",
       "        module = savedmodule;\n",
       "        resolve();\n",
       "    };\n",
       "  var firstScriptTag = document.getElementsByTagName('script')[0];\n",
       "  firstScriptTag.parentNode.insertBefore(tag, firstScriptTag);\n",
       "});\n",
       "};\n",
       "\n",
       "if(typeof $3Dmolpromise === 'undefined') {\n",
       "$3Dmolpromise = null;\n",
       "  $3Dmolpromise = loadScriptAsync('https://cdnjs.cloudflare.com/ajax/libs/3Dmol/2.1.0/3Dmol-min.js');\n",
       "}\n",
       "\n",
       "var viewer_1710254897638724 = null;\n",
       "var warn = document.getElementById(\"3dmolwarning_1710254897638724\");\n",
       "if(warn) {\n",
       "    warn.parentNode.removeChild(warn);\n",
       "}\n",
       "$3Dmolpromise.then(function() {\n",
       "viewer_1710254897638724 = $3Dmol.createViewer(document.getElementById(\"3dmolviewer_1710254897638724\"),{backgroundColor:\"white\"});\n",
       "viewer_1710254897638724.zoomTo();\n",
       "\tviewer_1710254897638724.addModel(\"HETATM    1  C2  UNK A 466      -1.372  -0.334  -1.213  1.00 20.00           C  \\nHETATM    2  N1  UNK A 466      -2.442   0.528  -0.758  1.00 20.00           N  \\nHETATM    3  C4  UNK A 466      -2.440   0.495   0.667  1.00 20.00           C  \\nHETATM    4  O2  UNK A 466      -3.639  -0.031   1.110  1.00 20.00           O  \\nHETATM    5  O1  UNK A 466      -1.353  -0.207   1.108  1.00 20.00           O  \\nHETATM    6  C3  UNK A 466      -0.541  -0.493   0.027  1.00 20.00           C  \\nHETATM    7  C5  UNK A 466       0.652   0.431  -0.023  1.00 20.00           C  \\nHETATM    8  C6  UNK A 466       1.534   0.347   1.158  1.00 20.00           C  \\nHETATM    9  C7  UNK A 466       2.742  -0.489   1.028  1.00 20.00           C  \\nHETATM   10  C8  UNK A 466       3.296  -0.613  -0.356  1.00 20.00           C  \\nHETATM   11  C9  UNK A 466       2.220  -0.800  -1.403  1.00 20.00           C  \\nHETATM   12  C10 UNK A 466       1.341   0.431  -1.346  1.00 20.00           C  \\nCONECT    1    2    6\\nCONECT    2    3\\nCONECT    3    4    5\\nCONECT    5    6\\nCONECT    6    7\\nCONECT    7    8   12\\nCONECT    8    9\\nCONECT    9   10\\nCONECT   10   11\\nCONECT   11   12\\nEND\\n\",\"pdb\");\n",
       "\tviewer_1710254897638724.setStyle({\"stick\": {\"colorscheme\": \"Jmol\", \"color\": \"residue\"}});\n",
       "\tviewer_1710254897638724.setBackgroundColor(\"black\");\n",
       "\tviewer_1710254897638724.zoomTo();\n",
       "viewer_1710254897638724.render();\n",
       "});\n",
       "</script>"
      ]
     },
     "metadata": {},
     "output_type": "display_data"
    }
   ],
   "source": [
    "from rdkit import Chem\n",
    "from rdkit.Chem import AllChem\n",
    "import py3Dmol\n",
    "\n",
    "# Define a function to convert PDB-like information to an RDKit molecule with 3D coordinates\n",
    "def pdb_to_rdkit_3d(pdb_text):\n",
    "    mol = Chem.MolFromPDBBlock(pdb_text)\n",
    "    AllChem.EmbedMolecule(mol, randomSeed=42)\n",
    "    return mol\n",
    "\n",
    "# Your PDB-like information\n",
    "pdb_info = \"\"\"\n",
    "HETATM    1  C1  UNK A 466     -23.328  14.678 -32.360  1.00 20.00           C\n",
    "HETATM    2  C2  UNK A 466     -23.219  15.919 -31.474  1.00 20.00           C\n",
    "HETATM    3  N1  UNK A 466     -23.638  15.632 -30.130  1.00 20.00           N\n",
    "HETATM    4  H14 UNK A 466     -24.332  14.956 -29.880  1.00 20.00           H\n",
    "HETATM    5  C4  UNK A 466     -22.954  16.414 -29.240  1.00 20.00           C\n",
    "HETATM    6  O2  UNK A 466     -23.138  16.582 -28.036  1.00 20.00           O\n",
    "HETATM    7  O1  UNK A 466     -21.966  17.000 -29.933  1.00 20.00           O\n",
    "HETATM    8  C3  UNK A 466     -21.791  16.384 -31.198  1.00 20.00           C\n",
    "HETATM    9  C5  UNK A 466     -21.087  17.279 -32.218  1.00 20.00           C\n",
    "HETATM   10  C6  UNK A 466     -19.760  17.655 -31.987  1.00 20.00           C\n",
    "HETATM   11  H6  UNK A 466     -19.253  17.331 -31.078  1.00 20.00           H\n",
    "HETATM   12  C7  UNK A 466     -19.085  18.443 -32.916  1.00 20.00           C\n",
    "HETATM   13  H7  UNK A 466     -18.045  18.723 -32.748  1.00 20.00           H\n",
    "HETATM   14  C8  UNK A 466     -19.751  18.871 -34.063  1.00 20.00           C\n",
    "HETATM   15  H8  UNK A 466     -19.229  19.500 -34.784  1.00 20.00           H\n",
    "HETATM   16  C9  UNK A 466     -21.071  18.508 -34.302  1.00 20.00           C\n",
    "HETATM   17  H9  UNK A 466     -21.584  18.856 -35.198  1.00 20.00           H\n",
    "HETATM   18  C10 UNK A 466     -21.730  17.697 -33.387  1.00 20.00           C\n",
    "HETATM   19  H10 UNK A 466     -22.756  17.384 -33.582  1.00 20.00           H\n",
    "\"\"\"\n",
    "\n",
    "# Convert PDB-like information to RDKit molecule with 3D coordinates\n",
    "mol_3d = pdb_to_rdkit_3d(pdb_info)\n",
    "\n",
    "# Create a Py3Dmol view\n",
    "view = py3Dmol.view(width=400, height=400)\n",
    "\n",
    "# Convert RDKit molecule to PDB format for Py3Dmol\n",
    "pdb_block = Chem.MolToPDBBlock(mol_3d)\n",
    "view.addModel(pdb_block, 'pdb')\n",
    "\n",
    "# Style and zoom to fit the structure\n",
    "view.setStyle({'stick': {'colorscheme': 'Jmol', 'color': 'residue'}})\n",
    "view.setBackgroundColor('black')\n",
    "view.zoomTo()\n",
    "\n",
    "# Show the interactive 3D view\n",
    "view.show()\n"
   ]
  }
 ],
 "metadata": {
  "kernelspec": {
   "display_name": "Python 3",
   "language": "python",
   "name": "python3"
  },
  "language_info": {
   "codemirror_mode": {
    "name": "ipython",
    "version": 3
   },
   "file_extension": ".py",
   "mimetype": "text/x-python",
   "name": "python",
   "nbconvert_exporter": "python",
   "pygments_lexer": "ipython3",
   "version": "3.11.4"
  }
 },
 "nbformat": 4,
 "nbformat_minor": 2
}
