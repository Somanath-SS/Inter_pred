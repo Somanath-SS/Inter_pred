{
 "cells": [
  {
   "cell_type": "markdown",
   "metadata": {},
   "source": []
  },
  {
   "cell_type": "code",
   "execution_count": 1,
   "metadata": {},
   "outputs": [],
   "source": [
    "import pdbreader\n",
    "pdb = pdbreader.read_pdb(r\"7knt.pdb\")"
   ]
  },
  {
   "cell_type": "code",
   "execution_count": 8,
   "metadata": {},
   "outputs": [
    {
     "name": "stdout",
     "output_type": "stream",
     "text": [
      "      model_id    id name loc_indicator resname chain  resid res_icode  \\\n",
      "0            0     1    N          None     GLU     E     29      None   \n",
      "1            0     2   CA          None     GLU     E     29      None   \n",
      "2            0     3    C          None     GLU     E     29      None   \n",
      "3            0     4    O          None     GLU     E     29      None   \n",
      "4            0     5   CB          None     GLU     E     29      None   \n",
      "...        ...   ...  ...           ...     ...   ...    ...       ...   \n",
      "3711         0  3713  CD2          None     TYR     R    402      None   \n",
      "3712         0  3714  CE1          None     TYR     R    402      None   \n",
      "3713         0  3715  CE2          None     TYR     R    402      None   \n",
      "3714         0  3716   CZ          None     TYR     R    402      None   \n",
      "3715         0  3717   OH          None     TYR     R    402      None   \n",
      "\n",
      "            x        y        z  occupancy  b_factor segment element charge  \n",
      "0     115.869  148.782   74.070        1.0    183.42    None       N   None  \n",
      "1     115.481  149.533   72.882        1.0    183.42    None       C   None  \n",
      "2     116.018  148.861   71.619        1.0    183.42    None       C   None  \n",
      "3     116.974  148.087   71.677        1.0    183.42    None       O   None  \n",
      "4     115.981  150.975   72.974        1.0    183.42    None       C   None  \n",
      "...       ...      ...      ...        ...       ...     ...     ...    ...  \n",
      "3711  105.619   90.895  138.037        1.0    156.46    None       C   None  \n",
      "3712  106.881   90.143  140.372        1.0    156.46    None       C   None  \n",
      "3713  106.634   91.678  138.554        1.0    156.46    None       C   None  \n",
      "3714  107.261   91.297  139.722        1.0    156.46    None       C   None  \n",
      "3715  108.272   92.072  140.240        1.0    156.46    None       O   None  \n",
      "\n",
      "[3716 rows x 16 columns]\n"
     ]
    }
   ],
   "source": [
    "print(pdb['ATOM'])"
   ]
  }
 ],
 "metadata": {
  "kernelspec": {
   "display_name": "Python 3",
   "language": "python",
   "name": "python3"
  },
  "language_info": {
   "codemirror_mode": {
    "name": "ipython",
    "version": 3
   },
   "file_extension": ".py",
   "mimetype": "text/x-python",
   "name": "python",
   "nbconvert_exporter": "python",
   "pygments_lexer": "ipython3",
   "version": "3.11.4"
  }
 },
 "nbformat": 4,
 "nbformat_minor": 2
}
